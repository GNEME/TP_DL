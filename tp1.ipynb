{
 "cells": [
  {
   "cell_type": "markdown",
   "id": "5e4a2b97-c57c-4e56-ac7c-1f99420d760c",
   "metadata": {},
   "source": [
    "**Partie 1**\n",
    "\n",
    "$1.1 Jeu \\ de \\ données$\n",
    "\n",
    "$1-$ Les données d'apprentissages servent à entraîner le modèle. Tandis que les données de validation utilisées au cours de l'entrainement, elles permettent de régler les hyper paramètres du modèle. Quant aux données de test, elles permettent de s'assurer de la capacité du modèle à pouvoir généraliser ses prédictions sur de nouvelles données.\n",
    "\n",
    "$2-$ Plus N est grand, plus le modèle apprend à mieux généraliser et évite l'overfitting. Cela peut cependant nécessiter une plus rande puissance de calcul au niveau du matériel et un temps d'entrainement plus long.\n",
    "\n",
    "$3-$ L'utilisation des fonctions d'activation permet d'une part d'introduire la non linéarité (pour les fonctions d'activation non linéaires) et d'apprendre des relations non linéaire complexes, d'autre part \n",
    "\n",
    "$4-$\n",
    "\n",
    "$5-$\n",
    "\n",
    "$6-$\n",
    "\n",
    "$7-$\n",
    "\n",
    "$8-$\n",
    "\n",
    "$9-$"
   ]
  },
  {
   "cell_type": "markdown",
   "id": "17137b2e-c929-480a-9e83-d4d90fc78f7d",
   "metadata": {},
   "source": [
    "**Partie 2**"
   ]
  },
  {
   "cell_type": "code",
   "execution_count": 2,
   "id": "4221d7d2-fe07-4f0d-be83-f97196682639",
   "metadata": {},
   "outputs": [],
   "source": [
    "import torch\n",
    "import torch.nn as nn"
   ]
  },
  {
   "cell_type": "code",
   "execution_count": 13,
   "id": "734495c4-6060-497e-8e0a-290bde169eba",
   "metadata": {},
   "outputs": [],
   "source": [
    "def my_init() -> str:\n",
    "    if torch.backends.mps.is_available():\n",
    "        return \"mps:0\"\n",
    "    elif torch.cuda.is_available():\n",
    "        return \"cuda\"\n",
    "    else:\n",
    "        return \"cpu\""
   ]
  },
  {
   "cell_type": "code",
   "execution_count": 14,
   "id": "1f73bfab-474f-4ead-97ad-9360d5520594",
   "metadata": {},
   "outputs": [
    {
     "name": "stdout",
     "output_type": "stream",
     "text": [
      "Device cpu\n"
     ]
    },
    {
     "data": {
      "text/plain": [
       "'\\nx = x.to(torch.device(\"cpu\")) // passage vers le cpu\\nbatch size puissance de 2\\n'"
      ]
     },
     "execution_count": 14,
     "metadata": {},
     "output_type": "execute_result"
    }
   ],
   "source": [
    "#device = torch.device(\"cuda\" if torch.cuda.is_available() else \"cpu\")\n",
    "device = torch.device(my_init())\n",
    "print(\"Device\", device)\n",
    "\"\"\"\n",
    "x = x.to(torch.device(\"cpu\")) // passage vers le cpu\n",
    "batch size puissance de 2\n",
    "Make moons ; modifier le nombre de couche caché, accuraccy tracé, activation ; Tp\n",
    "Mini projet : créer une Page web\n",
    "\"\"\""
   ]
  },
  {
   "cell_type": "code",
   "execution_count": 21,
   "id": "dd4a1adf-b96b-4281-a65d-65767f59bad3",
   "metadata": {},
   "outputs": [
    {
     "name": "stdout",
     "output_type": "stream",
     "text": [
      "tensor([[-0.1244, -1.7081],\n",
      "        [ 2.1649, -1.4728]])\n"
     ]
    }
   ],
   "source": [
    "def init_params(nx, nh, ny):\n",
    "    weights = torch.randn((nh, nx))\n",
    "    print(weights)\n",
    "\n",
    "init_params(2, 2, 2)"
   ]
  },
  {
   "cell_type": "code",
   "execution_count": null,
   "id": "88dfccfe-c375-4bfc-87be-9e1daaec0c20",
   "metadata": {},
   "outputs": [],
   "source": [
    "class TP1():\n",
    "    def __init__(self, num_features):\n",
    "        self.num_features = num_features\n",
    "        self.weights = torch.zeros(num_features,\n",
    "                                  )"
   ]
  }
 ],
 "metadata": {
  "kernelspec": {
   "display_name": "Python 3 (ipykernel)",
   "language": "python",
   "name": "python3"
  },
  "language_info": {
   "codemirror_mode": {
    "name": "ipython",
    "version": 3
   },
   "file_extension": ".py",
   "mimetype": "text/x-python",
   "name": "python",
   "nbconvert_exporter": "python",
   "pygments_lexer": "ipython3",
   "version": "3.11.2"
  }
 },
 "nbformat": 4,
 "nbformat_minor": 5
}
